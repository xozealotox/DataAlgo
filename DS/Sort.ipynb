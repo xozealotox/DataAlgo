{
 "cells": [
  {
   "cell_type": "code",
   "execution_count": 56,
   "metadata": {
    "collapsed": true
   },
   "outputs": [],
   "source": [
    "tree = [0, 0, 1, 1, 9, 3, 2, 5, 6, 9, 10]"
   ]
  },
  {
   "cell_type": "code",
   "execution_count": 17,
   "outputs": [],
   "source": [
    "def SelectionSort(arr):\n",
    "\n",
    "    n = len(arr)\n",
    "\n",
    "    for i in range(0, n-2):\n",
    "        min_idx = i\n",
    "        for j in range(i + 1, n - 1):\n",
    "            if arr[min_idx] > arr[j]:\n",
    "                min_idx = j\n",
    "        if i != min_idx:\n",
    "            arr[i], arr[min_idx] = arr[min_idx], arr[i]\n",
    "\n",
    "    return arr"
   ],
   "metadata": {
    "collapsed": false,
    "pycharm": {
     "name": "#%%\n"
    }
   }
  },
  {
   "cell_type": "code",
   "execution_count": 18,
   "outputs": [
    {
     "data": {
      "text/plain": "[0, 0, 1, 1, 2, 3, 5, 6, 9, 9, 10]"
     },
     "execution_count": 18,
     "metadata": {},
     "output_type": "execute_result"
    }
   ],
   "source": [
    "SelectionSort(tree)"
   ],
   "metadata": {
    "collapsed": false,
    "pycharm": {
     "name": "#%%\n"
    }
   }
  },
  {
   "cell_type": "code",
   "execution_count": 21,
   "outputs": [],
   "source": [
    "def HeapSort(arr):\n",
    "    def heapify(tree:list, n, i):\n",
    "        if i >= n:\n",
    "            return\n",
    "        max = i\n",
    "        lchild = 2 * i + 1\n",
    "        rchild = 2 * i + 2\n",
    "        if lchild < n and tree[max] < tree[lchild]:\n",
    "            max = lchild\n",
    "        if rchild < n and tree[max] < tree[rchild]:\n",
    "            max = rchild\n",
    "        if max != i:\n",
    "            tree[max], tree[i] = tree[i], tree[max]\n",
    "            heapify(tree, n, max)\n",
    "\n",
    "    def buildHeap(tree, n):\n",
    "        lastnode = n - 1\n",
    "        parent = (lastnode - 1) >> 1\n",
    "        for i in range(parent, -1, -1):\n",
    "            heapify(tree, n, i)\n",
    "\n",
    "        return tree\n",
    "\n",
    "    buildHeap(arr, len(arr))\n",
    "    for i in range(len(arr) - 1, -1, -1):\n",
    "        arr[0], arr[i] = arr[i], arr[0]\n",
    "        heapify(arr, i, 0)\n",
    "\n",
    "    return arr"
   ],
   "metadata": {
    "collapsed": false,
    "pycharm": {
     "name": "#%%\n"
    }
   }
  },
  {
   "cell_type": "code",
   "execution_count": 22,
   "outputs": [
    {
     "data": {
      "text/plain": "[0, 0, 1, 1, 2, 3, 5, 6, 9, 9, 10]"
     },
     "execution_count": 22,
     "metadata": {},
     "output_type": "execute_result"
    }
   ],
   "source": [
    "HeapSort(tree)"
   ],
   "metadata": {
    "collapsed": false,
    "pycharm": {
     "name": "#%%\n"
    }
   }
  },
  {
   "cell_type": "code",
   "execution_count": 55,
   "outputs": [],
   "source": [
    "def QuickSort(arr):\n",
    "\n",
    "    def partition(arr, left, right):\n",
    "        if left >= right:\n",
    "            return\n",
    "\n",
    "        pivot = arr[left]\n",
    "        i, j = left, right\n",
    "        while i < j:\n",
    "            # 从右向左找第一个小于pivot的数\n",
    "            while arr[j] >= pivot and i < j:\n",
    "                j = j - 1\n",
    "            # 从左向右找第一个大于pivot的数\n",
    "            while arr[i] <= pivot and i < j:\n",
    "                i = i + 1\n",
    "            if arr[i] > pivot > arr[j]:\n",
    "                arr[i], arr[j] = arr[j], arr[i] # 交换两个数\n",
    "        arr[i], arr[left] = arr[left], arr[i]\n",
    "\n",
    "        partition(arr, left, i - 1)\n",
    "        partition(arr, i + 1, right)\n",
    "\n",
    "        return arr\n",
    "\n",
    "    return partition(arr, 0, len(arr) - 1)"
   ],
   "metadata": {
    "collapsed": false,
    "pycharm": {
     "name": "#%%\n"
    }
   }
  },
  {
   "cell_type": "code",
   "execution_count": 57,
   "outputs": [
    {
     "data": {
      "text/plain": "[0, 0, 1, 1, 9, 3, 2, 5, 6, 9, 10]"
     },
     "execution_count": 57,
     "metadata": {},
     "output_type": "execute_result"
    }
   ],
   "source": [
    "tree"
   ],
   "metadata": {
    "collapsed": false,
    "pycharm": {
     "name": "#%%\n"
    }
   }
  },
  {
   "cell_type": "code",
   "execution_count": 58,
   "outputs": [
    {
     "data": {
      "text/plain": "[0, 0, 1, 1, 2, 3, 5, 6, 9, 9, 10]"
     },
     "execution_count": 58,
     "metadata": {},
     "output_type": "execute_result"
    }
   ],
   "source": [
    "QuickSort(tree)"
   ],
   "metadata": {
    "collapsed": false,
    "pycharm": {
     "name": "#%%\n"
    }
   }
  },
  {
   "cell_type": "code",
   "execution_count": 58,
   "outputs": [],
   "source": [],
   "metadata": {
    "collapsed": false,
    "pycharm": {
     "name": "#%%\n"
    }
   }
  },
  {
   "cell_type": "code",
   "execution_count": 58,
   "outputs": [],
   "source": [],
   "metadata": {
    "collapsed": false,
    "pycharm": {
     "name": "#%%\n"
    }
   }
  },
  {
   "cell_type": "code",
   "execution_count": 58,
   "outputs": [],
   "source": [],
   "metadata": {
    "collapsed": false,
    "pycharm": {
     "name": "#%%\n"
    }
   }
  },
  {
   "cell_type": "code",
   "execution_count": null,
   "outputs": [],
   "source": [],
   "metadata": {
    "collapsed": false,
    "pycharm": {
     "name": "#%%\n"
    }
   }
  }
 ],
 "metadata": {
  "kernelspec": {
   "display_name": "Python 3",
   "language": "python",
   "name": "python3"
  },
  "language_info": {
   "codemirror_mode": {
    "name": "ipython",
    "version": 2
   },
   "file_extension": ".py",
   "mimetype": "text/x-python",
   "name": "python",
   "nbconvert_exporter": "python",
   "pygments_lexer": "ipython2",
   "version": "2.7.6"
  }
 },
 "nbformat": 4,
 "nbformat_minor": 0
}